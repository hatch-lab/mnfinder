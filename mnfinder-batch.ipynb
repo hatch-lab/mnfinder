{
 "cells": [
  {
   "cell_type": "markdown",
   "id": "4755844a-fea9-4d1c-a961-e67bcc400f35",
   "metadata": {},
   "source": [
    "### Batch processing of images with MNFinder\n",
    "This script will get you started on segmenting batches of images. Full descriptions of each step are available in the mnfinder-test.ipynb file.\n",
    "\n",
    "**Input:** a folder containing images with the suffix .tif that are resized for MNFinder\n",
    "\n",
    "**Output:** a new directory called \"labels\" in the images folder containing 3-channel mask images (nuclei, MN, assigned MN) for each input image and two .csv files for each image listing attributes of nuclei-associated MN (image.mn.csv) and all identified nuclei (image.nuc.csv)."
   ]
  },
  {
   "cell_type": "code",
   "execution_count": 1,
   "id": "89d49703-8caa-4609-89e2-fbc8e8e9c133",
   "metadata": {},
   "outputs": [
    {
     "name": "stderr",
     "output_type": "stream",
     "text": [
      "2024-10-25 09:41:16.733292: I tensorflow/core/platform/cpu_feature_guard.cc:210] This TensorFlow binary is optimized to use available CPU instructions in performance-critical operations.\n",
      "To enable the following instructions: AVX2 FMA, in other operations, rebuild TensorFlow with the appropriate compiler flags.\n",
      "/Users/ehatch/.env/lib/python3.12/site-packages/albumentations/__init__.py:13: UserWarning: A new version of Albumentations is available: 1.4.20 (you have 1.4.17). Upgrade using: pip install -U albumentations. To disable automatic update checks, set the environment variable NO_ALBUMENTATIONS_UPDATE to 1.\n",
      "  check_for_updates()\n"
     ]
    }
   ],
   "source": [
    "from mnfinder import MNClassifier\n",
    "from tifffile import tifffile\n",
    "from matplotlib import pyplot as plt\n",
    "from pathlib import Path"
   ]
  },
  {
   "cell_type": "code",
   "execution_count": 2,
   "id": "0b78028c-e74e-4967-b84c-3f2a5694926f",
   "metadata": {},
   "outputs": [],
   "source": [
    "directory = Path(\"/Users/ehatch/Desktop/Results/mnfinder_test/hatch-lab mnfinder main src-mnfinder_training-data_2022-05-25_RPE1/images\")"
   ]
  },
  {
   "cell_type": "code",
   "execution_count": 3,
   "id": "038514b2-914c-4353-8f71-c9420d5fb407",
   "metadata": {},
   "outputs": [],
   "source": [
    "classifier = MNClassifier.get_model()"
   ]
  },
  {
   "cell_type": "code",
   "execution_count": 4,
   "id": "4c91938f-c4ea-41f4-bd16-206e6750130b",
   "metadata": {},
   "outputs": [],
   "source": [
    "# attention_model = MNClassifier.get_model('Attention')"
   ]
  },
  {
   "cell_type": "code",
   "execution_count": 5,
   "id": "02619e2a-4fbc-47ac-9777-2d86a8a8b701",
   "metadata": {},
   "outputs": [],
   "source": [
    "# Initialize an empty list to store image paths\n",
    "list_of_images = []\n",
    "\n",
    "# Iterate through each item in the specified directory\n",
    "for p in directory.iterdir():\n",
    "    # Check if the item's suffix is '.tif' (indicating it's a TIFF image)\n",
    "    # and ensure it doesn't start with a dot (to skip hidden files)\n",
    "    if p.suffix == '.tif' and p.name[0] != '.':\n",
    "        # If both conditions are met, append the path to the list\n",
    "        list_of_images.append(p)\n",
    "\n",
    "# Define the label directory path by appending 'labels' to the original directory path\n",
    "label_directory = directory / 'masks'\n",
    "\n",
    "# Create the label directory if it doesn't already exist\n",
    "label_directory.mkdir(exist_ok=True)"
   ]
  },
  {
   "cell_type": "code",
   "execution_count": 7,
   "id": "2dd9bd88-7a44-4a15-9299-5379c2589912",
   "metadata": {},
   "outputs": [],
   "source": [
    "for image_path in list_of_images:\n",
    "    image = tifffile.imread(image_path)\n",
    "    labels = classifier.predict(image)\n",
    "    \n",
    "    # Save the label images\n",
    "    tifffile.imwrite(label_directory / image_path.name, labels)\n",
    "    \n",
    "    # Get label data\n",
    "    #mn_df, nuc_df = MNClassifier.get_label_data(labels)\n",
    "    \n",
    "    # Use image_path.name to get the name of the image\n",
    "    #image_name = image_path.stem\n",
    "\n",
    "    # Rename the DataFrames with the image names\n",
    "    #mn_df['image'] = image_name\n",
    "    #nuc_df['image'] = image_name\n",
    "    \n",
    "    # Save the DataFrames to CSV using the label_directory path\n",
    "    #mn_df.to_csv(label_directory / '{}.mn.csv'.format(image_name))\n",
    "    #nuc_df.to_csv(label_directory / '{}.nuc.csv'.format(image_name))"
   ]
  },
  {
   "cell_type": "code",
   "execution_count": null,
   "id": "f075122c-f0a4-4035-9c3f-c3f47a8dcf37",
   "metadata": {},
   "outputs": [],
   "source": []
  }
 ],
 "metadata": {
  "kernelspec": {
   "display_name": "Python 3 (ipykernel)",
   "language": "python",
   "name": "python3"
  },
  "language_info": {
   "codemirror_mode": {
    "name": "ipython",
    "version": 3
   },
   "file_extension": ".py",
   "mimetype": "text/x-python",
   "name": "python",
   "nbconvert_exporter": "python",
   "pygments_lexer": "ipython3",
   "version": "3.12.6"
  }
 },
 "nbformat": 4,
 "nbformat_minor": 5
}
